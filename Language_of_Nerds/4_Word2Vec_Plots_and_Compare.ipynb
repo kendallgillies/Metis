{
 "cells": [
  {
   "cell_type": "code",
   "execution_count": 1,
   "metadata": {},
   "outputs": [
    {
     "data": {
      "text/html": [
       "<script>requirejs.config({paths: { 'plotly': ['https://cdn.plot.ly/plotly-latest.min']},});if(!window.Plotly) {{require(['plotly'],function(plotly) {window.Plotly=plotly;});}}</script>"
      ],
      "text/vnd.plotly.v1+html": [
       "<script>requirejs.config({paths: { 'plotly': ['https://cdn.plot.ly/plotly-latest.min']},});if(!window.Plotly) {{require(['plotly'],function(plotly) {window.Plotly=plotly;});}}</script>"
      ]
     },
     "metadata": {},
     "output_type": "display_data"
    }
   ],
   "source": [
    "import re\n",
    "\n",
    "import pandas as pd\n",
    "import numpy as np\n",
    "\n",
    "# gensim\n",
    "from gensim import corpora, models, similarities, matutils\n",
    "import gensim\n",
    "\n",
    "# sklearn\n",
    "from sklearn.decomposition import PCA\n",
    "\n",
    "# logging for gensim (set to INFO)\n",
    "import logging\n",
    "logging.basicConfig(format='%(asctime)s : %(levelname)s : %(message)s', level=logging.INFO)\n",
    "\n",
    "import plotly as py\n",
    "import plotly.graph_objs as go\n",
    "from plotly import offline\n",
    "py.offline.init_notebook_mode(connected=True)\n",
    "\n",
    "import colorlover as cl\n",
    "\n",
    "import pickle"
   ]
  },
  {
   "cell_type": "code",
   "execution_count": 2,
   "metadata": {},
   "outputs": [
    {
     "name": "stdout",
     "output_type": "stream",
     "text": [
      "Gensim version: 3.3.0\n",
      "Regex version: 2.2.1\n",
      "Plotly version: 2.2.3\n",
      "Python 3.6.4 :: Anaconda custom (64-bit)\r\n"
     ]
    }
   ],
   "source": [
    "packages = (('Gensim', gensim), ('Regex', re),('Plotly',py))\n",
    "\n",
    "for package in packages:\n",
    "    print('{0} version: {1}'.format(package[0],package[1].__version__))\n",
    "    \n",
    "!Python -V"
   ]
  },
  {
   "cell_type": "markdown",
   "metadata": {},
   "source": [
    "# Get Models"
   ]
  },
  {
   "cell_type": "code",
   "execution_count": 3,
   "metadata": {},
   "outputs": [],
   "source": [
    "with open('Word2Vec_Stats.pkl','rb') as pickle_in:\n",
    "    stats_model = pickle.load(pickle_in)\n",
    "    \n",
    "with open('Word2Vec_Math.pkl','rb') as pickle_in:\n",
    "    math_model = pickle.load(pickle_in)\n",
    "    \n",
    "with open('Word2Vec_CS.pkl','rb') as pickle_in:\n",
    "    cs_model = pickle.load(pickle_in)"
   ]
  },
  {
   "cell_type": "code",
   "execution_count": 4,
   "metadata": {},
   "outputs": [],
   "source": [
    "def subject_similarities(model, word1, word2):\n",
    "    '''\n",
    "        Returns the similarities between word 1 and word 2 based on\n",
    "        the given model. If one of the words is not the in model \n",
    "        vocabulary the function will return None.\n",
    "    '''\n",
    "    \n",
    "    model_vocab = model.wv.vocab\n",
    "    \n",
    "    try:\n",
    "        sim = model.wv.similarity(word1, word2)\n",
    "        return sim\n",
    "    \n",
    "    except:\n",
    "        None\n",
    "        \n",
    "    return None"
   ]
  },
  {
   "cell_type": "code",
   "execution_count": 5,
   "metadata": {},
   "outputs": [],
   "source": [
    "def in_top10(model, word1, word2):\n",
    "    '''\n",
    "        Sees if word2 is in the top ten most similar words for \n",
    "        word1.\n",
    "    '''\n",
    "#     if word1 in model\n",
    "    top10 = model.wv.most_similar(word1, topn=10)\n",
    "    \n",
    "    sim = subject_similarities(model, word1, word2)\n",
    "    \n",
    "    for entry in top10:\n",
    "        if word2 == entry[0]:\n",
    "            return 1\n",
    "        \n",
    "    return 0"
   ]
  },
  {
   "cell_type": "code",
   "execution_count": 6,
   "metadata": {},
   "outputs": [],
   "source": [
    "def get_similarities(word1, word2):\n",
    "    '''\n",
    "        Finds the similarties between word1 and word2 for all topics.\n",
    "        Returns a 3x2 array with the topic, if word1 is not in the\n",
    "        model's vocabulary, if word2 is not in the models vocabulary\n",
    "        and the similarity score.\n",
    "    '''\n",
    "    \n",
    "    individual_models = {'math':math_model, 'stats':stats_model, 'cs':cs_model}\n",
    "\n",
    "    similarities_by_topic = np.array([])\n",
    "\n",
    "    for topic in individual_models.keys():\n",
    "        model = individual_models[topic]\n",
    "\n",
    "        sim = subject_similarities(model, word1, word2)\n",
    "        is_in_top10 = in_top10(model, word1, word2)\n",
    "\n",
    "        sbt = np.array([topic, sim, is_in_top10])\n",
    "\n",
    "        similarities_by_topic = np.append(similarities_by_topic, sbt)\n",
    "    \n",
    "    similarities_by_topic = similarities_by_topic.reshape(3,-1)\n",
    "\n",
    "    return similarities_by_topic"
   ]
  },
  {
   "cell_type": "code",
   "execution_count": 7,
   "metadata": {},
   "outputs": [],
   "source": [
    "def word1_plot_title(word1):\n",
    "    '''Replaces underscore with a space and capitalizes all words.'''\n",
    "    \n",
    "    \n",
    "    word1 = word1.split('_')\n",
    "    \n",
    "    pretty_word = []\n",
    "    \n",
    "    if isinstance(word1, list):\n",
    "        \n",
    "        for word in word1:\n",
    "            pretty_word.append(word[0].upper() + word[1:])\n",
    "        \n",
    "        pretty_word = ' '.join(pretty_word)\n",
    "            \n",
    "    else:\n",
    "        pretty_word = word1[0].upper() + word1[1:]\n",
    "\n",
    "    \n",
    "    return pretty_word"
   ]
  },
  {
   "cell_type": "code",
   "execution_count": 8,
   "metadata": {},
   "outputs": [],
   "source": [
    "def similarity_plots(word1, test_words, word1_title):\n",
    "    '''\n",
    "        Plots the similarity scores for a set of words (test_words) against\n",
    "        word1 for each topic.\n",
    "    '''\n",
    "    \n",
    "    test_word_lengths = [len(word) for word in test_words]\n",
    "    max_length = max(test_word_lengths)\n",
    "    \n",
    "    if len(test_words) < 3:\n",
    "        colors = cl.scales['3']['qual']['Set1']\n",
    "        colors = colors[:len(test_words)]\n",
    "    else:\n",
    "        colors = cl.scales[str(len(test_words))]['qual']['Set1']\n",
    "\n",
    "    data = []\n",
    "    annotations = []\n",
    "\n",
    "    for index, word2 in enumerate(test_words):\n",
    "\n",
    "        model_similarities = get_similarities(word1, word2)\n",
    "\n",
    "        pretty_words = {'math':'Mathematics', 'stats':'Statistics', 'cs':'Computer Science'}\n",
    "        pw = np.vectorize(pretty_words.get)\n",
    "        model_similarities[:,0] = pw(model_similarities[:,0])\n",
    "        \n",
    "        if len(word2) > 1:\n",
    "            pretty_word2 = ' '.join(word2.split('_'))\n",
    "        else:\n",
    "            pretty_word2 = word2\n",
    "\n",
    "        symbols = []\n",
    "        for in_top10 in model_similarities[:,2]:\n",
    "            if int(in_top10):\n",
    "                symbols.append('star')\n",
    "            else:\n",
    "                symbols.append('circle')\n",
    "                        \n",
    "        points = go.Scatter(\n",
    "            x = model_similarities[:,0],\n",
    "            y = model_similarities[:,1],\n",
    "            mode = 'markers+lines',\n",
    "            marker = dict(\n",
    "                color = colors[index],\n",
    "                symbol = symbols,\n",
    "                size = 18\n",
    "            ),\n",
    "            line = dict(\n",
    "                width = 3\n",
    "            )\n",
    "        )\n",
    "\n",
    "        annot = dict(\n",
    "            showarrow = False,\n",
    "            x = 'Computer Science',\n",
    "            y = model_similarities[2,1],\n",
    "            text = pretty_word2,\n",
    "            xanchor = \"left\",\n",
    "            xshift = max_length*1.1,\n",
    "            font = dict(\n",
    "                size = 18,\n",
    "                color = colors[index]\n",
    "            )\n",
    "          )\n",
    "\n",
    "        data.append(points)\n",
    "        annotations.append(annot)\n",
    "\n",
    "\n",
    "\n",
    "    layout = go.Layout(\n",
    "        autosize=False,\n",
    "        width=600,\n",
    "        height=700,\n",
    "        title='Similarities Scores for ' + word1_title,\n",
    "        showlegend = False,\n",
    "        titlefont=dict(\n",
    "            size=25\n",
    "        ),\n",
    "        xaxis=dict(\n",
    "            range = [-0.5,2.5],\n",
    "            showgrid=True,\n",
    "            zeroline=False,\n",
    "            showticklabels=True,\n",
    "            tickvals = [0,1,2],\n",
    "            tickfont = dict(\n",
    "                size = 18\n",
    "            )\n",
    "        ),\n",
    "        yaxis=dict(\n",
    "            range = [-0.1,1.1],\n",
    "            showgrid=True,\n",
    "            zeroline=True,\n",
    "            showticklabels=True,\n",
    "            tickfont = dict(\n",
    "                size = 15\n",
    "            )\n",
    "        ),\n",
    "        annotations = annotations\n",
    "    )\n",
    "\n",
    "\n",
    "    fig = go.Figure(data=data, layout=layout)\n",
    "\n",
    "    py.offline.iplot(fig)"
   ]
  },
  {
   "cell_type": "code",
   "execution_count": 9,
   "metadata": {},
   "outputs": [
    {
     "name": "stderr",
     "output_type": "stream",
     "text": [
      "2018-04-12 14:44:26,208 : INFO : precomputing L2-norms of word weight vectors\n"
     ]
    },
    {
     "data": {
      "application/vnd.plotly.v1+json": {
       "data": [
        {
         "line": {
          "width": 3
         },
         "marker": {
          "color": "rgb(228,26,28)",
          "size": 18,
          "symbol": [
           "circle",
           "circle",
           "circle"
          ]
         },
         "mode": "markers+lines",
         "type": "scatter",
         "x": [
          "Mathematics",
          "Statistics",
          "Computer Science"
         ],
         "y": [
          "0.6135295879073355",
          "0.3915605289165381",
          "0.4935831518104789"
         ]
        },
        {
         "line": {
          "width": 3
         },
         "marker": {
          "color": "rgb(55,126,184)",
          "size": 18,
          "symbol": [
           "circle",
           "circle",
           "circle"
          ]
         },
         "mode": "markers+lines",
         "type": "scatter",
         "x": [
          "Mathematics",
          "Statistics",
          "Computer Science"
         ],
         "y": [
          "0.2475058933288537",
          "0.14583876197017048",
          "0.22516050840373633"
         ]
        },
        {
         "line": {
          "width": 3
         },
         "marker": {
          "color": "rgb(77,175,74)",
          "size": 18,
          "symbol": [
           "circle",
           "circle",
           "circle"
          ]
         },
         "mode": "markers+lines",
         "type": "scatter",
         "x": [
          "Mathematics",
          "Statistics",
          "Computer Science"
         ],
         "y": [
          "0.5839843728733443",
          "0.252512276096998",
          "0.3013740522487436"
         ]
        },
        {
         "line": {
          "width": 3
         },
         "marker": {
          "color": "rgb(152,78,163)",
          "size": 18,
          "symbol": [
           "circle",
           "star",
           "circle"
          ]
         },
         "mode": "markers+lines",
         "type": "scatter",
         "x": [
          "Mathematics",
          "Statistics",
          "Computer Science"
         ],
         "y": [
          "0.32343772907149093",
          "0.6557769499188459",
          "0.5465825149223631"
         ]
        },
        {
         "line": {
          "width": 3
         },
         "marker": {
          "color": "rgb(255,127,0)",
          "size": 18,
          "symbol": [
           "circle",
           "star",
           "circle"
          ]
         },
         "mode": "markers+lines",
         "type": "scatter",
         "x": [
          "Mathematics",
          "Statistics",
          "Computer Science"
         ],
         "y": [
          "0.030167930581465136",
          "0.5802960324483566",
          "0.14779950358368707"
         ]
        }
       ],
       "layout": {
        "annotations": [
         {
          "font": {
           "color": "rgb(228,26,28)",
           "size": 18
          },
          "showarrow": false,
          "text": "regression",
          "x": "Computer Science",
          "xanchor": "left",
          "xshift": 15.400000000000002,
          "y": "0.4935831518104789"
         },
         {
          "font": {
           "color": "rgb(55,126,184)",
           "size": 18
          },
          "showarrow": false,
          "text": "classification",
          "x": "Computer Science",
          "xanchor": "left",
          "xshift": 15.400000000000002,
          "y": "0.22516050840373633"
         },
         {
          "font": {
           "color": "rgb(77,175,74)",
           "size": 18
          },
          "showarrow": false,
          "text": "cluster",
          "x": "Computer Science",
          "xanchor": "left",
          "xshift": 15.400000000000002,
          "y": "0.3013740522487436"
         },
         {
          "font": {
           "color": "rgb(152,78,163)",
           "size": 18
          },
          "showarrow": false,
          "text": "fit",
          "x": "Computer Science",
          "xanchor": "left",
          "xshift": 15.400000000000002,
          "y": "0.5465825149223631"
         },
         {
          "font": {
           "color": "rgb(255,127,0)",
           "size": 18
          },
          "showarrow": false,
          "text": "glm",
          "x": "Computer Science",
          "xanchor": "left",
          "xshift": 15.400000000000002,
          "y": "0.14779950358368707"
         }
        ],
        "autosize": false,
        "height": 700,
        "showlegend": false,
        "title": "Similarities Scores for Model",
        "titlefont": {
         "size": 25
        },
        "width": 600,
        "xaxis": {
         "range": [
          -0.5,
          2.5
         ],
         "showgrid": true,
         "showticklabels": true,
         "tickfont": {
          "size": 18
         },
         "tickvals": [
          0,
          1,
          2
         ],
         "zeroline": false
        },
        "yaxis": {
         "range": [
          -0.1,
          1.1
         ],
         "showgrid": true,
         "showticklabels": true,
         "tickfont": {
          "size": 15
         },
         "zeroline": true
        }
       }
      },
      "text/html": [
       "<div id=\"a8e2d65b-6daf-4e5b-9aec-0855880faa4f\" style=\"height: 700px; width: 600px;\" class=\"plotly-graph-div\"></div><script type=\"text/javascript\">require([\"plotly\"], function(Plotly) { window.PLOTLYENV=window.PLOTLYENV || {};window.PLOTLYENV.BASE_URL=\"https://plot.ly\";Plotly.newPlot(\"a8e2d65b-6daf-4e5b-9aec-0855880faa4f\", [{\"type\": \"scatter\", \"x\": [\"Mathematics\", \"Statistics\", \"Computer Science\"], \"y\": [\"0.6135295879073355\", \"0.3915605289165381\", \"0.4935831518104789\"], \"mode\": \"markers+lines\", \"marker\": {\"color\": \"rgb(228,26,28)\", \"symbol\": [\"circle\", \"circle\", \"circle\"], \"size\": 18}, \"line\": {\"width\": 3}}, {\"type\": \"scatter\", \"x\": [\"Mathematics\", \"Statistics\", \"Computer Science\"], \"y\": [\"0.2475058933288537\", \"0.14583876197017048\", \"0.22516050840373633\"], \"mode\": \"markers+lines\", \"marker\": {\"color\": \"rgb(55,126,184)\", \"symbol\": [\"circle\", \"circle\", \"circle\"], \"size\": 18}, \"line\": {\"width\": 3}}, {\"type\": \"scatter\", \"x\": [\"Mathematics\", \"Statistics\", \"Computer Science\"], \"y\": [\"0.5839843728733443\", \"0.252512276096998\", \"0.3013740522487436\"], \"mode\": \"markers+lines\", \"marker\": {\"color\": \"rgb(77,175,74)\", \"symbol\": [\"circle\", \"circle\", \"circle\"], \"size\": 18}, \"line\": {\"width\": 3}}, {\"type\": \"scatter\", \"x\": [\"Mathematics\", \"Statistics\", \"Computer Science\"], \"y\": [\"0.32343772907149093\", \"0.6557769499188459\", \"0.5465825149223631\"], \"mode\": \"markers+lines\", \"marker\": {\"color\": \"rgb(152,78,163)\", \"symbol\": [\"circle\", \"star\", \"circle\"], \"size\": 18}, \"line\": {\"width\": 3}}, {\"type\": \"scatter\", \"x\": [\"Mathematics\", \"Statistics\", \"Computer Science\"], \"y\": [\"0.030167930581465136\", \"0.5802960324483566\", \"0.14779950358368707\"], \"mode\": \"markers+lines\", \"marker\": {\"color\": \"rgb(255,127,0)\", \"symbol\": [\"circle\", \"star\", \"circle\"], \"size\": 18}, \"line\": {\"width\": 3}}], {\"autosize\": false, \"width\": 600, \"height\": 700, \"title\": \"Similarities Scores for Model\", \"showlegend\": false, \"titlefont\": {\"size\": 25}, \"xaxis\": {\"range\": [-0.5, 2.5], \"showgrid\": true, \"zeroline\": false, \"showticklabels\": true, \"tickvals\": [0, 1, 2], \"tickfont\": {\"size\": 18}}, \"yaxis\": {\"range\": [-0.1, 1.1], \"showgrid\": true, \"zeroline\": true, \"showticklabels\": true, \"tickfont\": {\"size\": 15}}, \"annotations\": [{\"showarrow\": false, \"x\": \"Computer Science\", \"y\": \"0.4935831518104789\", \"text\": \"regression\", \"xanchor\": \"left\", \"xshift\": 15.400000000000002, \"font\": {\"size\": 18, \"color\": \"rgb(228,26,28)\"}}, {\"showarrow\": false, \"x\": \"Computer Science\", \"y\": \"0.22516050840373633\", \"text\": \"classification\", \"xanchor\": \"left\", \"xshift\": 15.400000000000002, \"font\": {\"size\": 18, \"color\": \"rgb(55,126,184)\"}}, {\"showarrow\": false, \"x\": \"Computer Science\", \"y\": \"0.3013740522487436\", \"text\": \"cluster\", \"xanchor\": \"left\", \"xshift\": 15.400000000000002, \"font\": {\"size\": 18, \"color\": \"rgb(77,175,74)\"}}, {\"showarrow\": false, \"x\": \"Computer Science\", \"y\": \"0.5465825149223631\", \"text\": \"fit\", \"xanchor\": \"left\", \"xshift\": 15.400000000000002, \"font\": {\"size\": 18, \"color\": \"rgb(152,78,163)\"}}, {\"showarrow\": false, \"x\": \"Computer Science\", \"y\": \"0.14779950358368707\", \"text\": \"glm\", \"xanchor\": \"left\", \"xshift\": 15.400000000000002, \"font\": {\"size\": 18, \"color\": \"rgb(255,127,0)\"}}]}, {\"showLink\": true, \"linkText\": \"Export to plot.ly\"})});</script>"
      ],
      "text/vnd.plotly.v1+html": [
       "<div id=\"a8e2d65b-6daf-4e5b-9aec-0855880faa4f\" style=\"height: 700px; width: 600px;\" class=\"plotly-graph-div\"></div><script type=\"text/javascript\">require([\"plotly\"], function(Plotly) { window.PLOTLYENV=window.PLOTLYENV || {};window.PLOTLYENV.BASE_URL=\"https://plot.ly\";Plotly.newPlot(\"a8e2d65b-6daf-4e5b-9aec-0855880faa4f\", [{\"type\": \"scatter\", \"x\": [\"Mathematics\", \"Statistics\", \"Computer Science\"], \"y\": [\"0.6135295879073355\", \"0.3915605289165381\", \"0.4935831518104789\"], \"mode\": \"markers+lines\", \"marker\": {\"color\": \"rgb(228,26,28)\", \"symbol\": [\"circle\", \"circle\", \"circle\"], \"size\": 18}, \"line\": {\"width\": 3}}, {\"type\": \"scatter\", \"x\": [\"Mathematics\", \"Statistics\", \"Computer Science\"], \"y\": [\"0.2475058933288537\", \"0.14583876197017048\", \"0.22516050840373633\"], \"mode\": \"markers+lines\", \"marker\": {\"color\": \"rgb(55,126,184)\", \"symbol\": [\"circle\", \"circle\", \"circle\"], \"size\": 18}, \"line\": {\"width\": 3}}, {\"type\": \"scatter\", \"x\": [\"Mathematics\", \"Statistics\", \"Computer Science\"], \"y\": [\"0.5839843728733443\", \"0.252512276096998\", \"0.3013740522487436\"], \"mode\": \"markers+lines\", \"marker\": {\"color\": \"rgb(77,175,74)\", \"symbol\": [\"circle\", \"circle\", \"circle\"], \"size\": 18}, \"line\": {\"width\": 3}}, {\"type\": \"scatter\", \"x\": [\"Mathematics\", \"Statistics\", \"Computer Science\"], \"y\": [\"0.32343772907149093\", \"0.6557769499188459\", \"0.5465825149223631\"], \"mode\": \"markers+lines\", \"marker\": {\"color\": \"rgb(152,78,163)\", \"symbol\": [\"circle\", \"star\", \"circle\"], \"size\": 18}, \"line\": {\"width\": 3}}, {\"type\": \"scatter\", \"x\": [\"Mathematics\", \"Statistics\", \"Computer Science\"], \"y\": [\"0.030167930581465136\", \"0.5802960324483566\", \"0.14779950358368707\"], \"mode\": \"markers+lines\", \"marker\": {\"color\": \"rgb(255,127,0)\", \"symbol\": [\"circle\", \"star\", \"circle\"], \"size\": 18}, \"line\": {\"width\": 3}}], {\"autosize\": false, \"width\": 600, \"height\": 700, \"title\": \"Similarities Scores for Model\", \"showlegend\": false, \"titlefont\": {\"size\": 25}, \"xaxis\": {\"range\": [-0.5, 2.5], \"showgrid\": true, \"zeroline\": false, \"showticklabels\": true, \"tickvals\": [0, 1, 2], \"tickfont\": {\"size\": 18}}, \"yaxis\": {\"range\": [-0.1, 1.1], \"showgrid\": true, \"zeroline\": true, \"showticklabels\": true, \"tickfont\": {\"size\": 15}}, \"annotations\": [{\"showarrow\": false, \"x\": \"Computer Science\", \"y\": \"0.4935831518104789\", \"text\": \"regression\", \"xanchor\": \"left\", \"xshift\": 15.400000000000002, \"font\": {\"size\": 18, \"color\": \"rgb(228,26,28)\"}}, {\"showarrow\": false, \"x\": \"Computer Science\", \"y\": \"0.22516050840373633\", \"text\": \"classification\", \"xanchor\": \"left\", \"xshift\": 15.400000000000002, \"font\": {\"size\": 18, \"color\": \"rgb(55,126,184)\"}}, {\"showarrow\": false, \"x\": \"Computer Science\", \"y\": \"0.3013740522487436\", \"text\": \"cluster\", \"xanchor\": \"left\", \"xshift\": 15.400000000000002, \"font\": {\"size\": 18, \"color\": \"rgb(77,175,74)\"}}, {\"showarrow\": false, \"x\": \"Computer Science\", \"y\": \"0.5465825149223631\", \"text\": \"fit\", \"xanchor\": \"left\", \"xshift\": 15.400000000000002, \"font\": {\"size\": 18, \"color\": \"rgb(152,78,163)\"}}, {\"showarrow\": false, \"x\": \"Computer Science\", \"y\": \"0.14779950358368707\", \"text\": \"glm\", \"xanchor\": \"left\", \"xshift\": 15.400000000000002, \"font\": {\"size\": 18, \"color\": \"rgb(255,127,0)\"}}]}, {\"showLink\": true, \"linkText\": \"Export to plot.ly\"})});</script>"
      ]
     },
     "metadata": {},
     "output_type": "display_data"
    }
   ],
   "source": [
    "word1 = 'model'\n",
    "test_words = ['regression','classification','cluster','fit','glm']\n",
    "word1_title = word1_plot_title(word1)\n",
    "\n",
    "similarity_plots(word1, test_words, word1_title)"
   ]
  },
  {
   "cell_type": "code",
   "execution_count": 10,
   "metadata": {},
   "outputs": [
    {
     "data": {
      "application/vnd.plotly.v1+json": {
       "data": [
        {
         "line": {
          "width": 3
         },
         "marker": {
          "color": "rgb(228,26,28)",
          "size": 18,
          "symbol": [
           "circle",
           "circle",
           "circle"
          ]
         },
         "mode": "markers+lines",
         "type": "scatter",
         "x": [
          "Mathematics",
          "Statistics",
          "Computer Science"
         ],
         "y": [
          null,
          "0.7409562760375761",
          "0.8814717921015751"
         ]
        },
        {
         "line": {
          "width": 3
         },
         "marker": {
          "color": "rgb(55,126,184)",
          "size": 18,
          "symbol": [
           "circle",
           "circle",
           "star"
          ]
         },
         "mode": "markers+lines",
         "type": "scatter",
         "x": [
          "Mathematics",
          "Statistics",
          "Computer Science"
         ],
         "y": [
          "0.9439335373125881",
          "0.9268710827166333",
          "0.9869723565362108"
         ]
        }
       ],
       "layout": {
        "annotations": [
         {
          "font": {
           "color": "rgb(228,26,28)",
           "size": 18
          },
          "showarrow": false,
          "text": "learning rate",
          "x": "Computer Science",
          "xanchor": "left",
          "xshift": 14.3,
          "y": "0.8814717921015751"
         },
         {
          "font": {
           "color": "rgb(55,126,184)",
           "size": 18
          },
          "showarrow": false,
          "text": "parameter λ",
          "x": "Computer Science",
          "xanchor": "left",
          "xshift": 14.3,
          "y": "0.9869723565362108"
         }
        ],
        "autosize": false,
        "height": 700,
        "showlegend": false,
        "title": "Similarities Scores for Step Size",
        "titlefont": {
         "size": 25
        },
        "width": 600,
        "xaxis": {
         "range": [
          -0.5,
          2.5
         ],
         "showgrid": true,
         "showticklabels": true,
         "tickfont": {
          "size": 18
         },
         "tickvals": [
          0,
          1,
          2
         ],
         "zeroline": false
        },
        "yaxis": {
         "range": [
          -0.1,
          1.1
         ],
         "showgrid": true,
         "showticklabels": true,
         "tickfont": {
          "size": 15
         },
         "zeroline": true
        }
       }
      },
      "text/html": [
       "<div id=\"a204dde9-e6a5-4092-9e40-56b2b2cc2fec\" style=\"height: 700px; width: 600px;\" class=\"plotly-graph-div\"></div><script type=\"text/javascript\">require([\"plotly\"], function(Plotly) { window.PLOTLYENV=window.PLOTLYENV || {};window.PLOTLYENV.BASE_URL=\"https://plot.ly\";Plotly.newPlot(\"a204dde9-e6a5-4092-9e40-56b2b2cc2fec\", [{\"type\": \"scatter\", \"x\": [\"Mathematics\", \"Statistics\", \"Computer Science\"], \"y\": [null, \"0.7409562760375761\", \"0.8814717921015751\"], \"mode\": \"markers+lines\", \"marker\": {\"color\": \"rgb(228,26,28)\", \"symbol\": [\"circle\", \"circle\", \"circle\"], \"size\": 18}, \"line\": {\"width\": 3}}, {\"type\": \"scatter\", \"x\": [\"Mathematics\", \"Statistics\", \"Computer Science\"], \"y\": [\"0.9439335373125881\", \"0.9268710827166333\", \"0.9869723565362108\"], \"mode\": \"markers+lines\", \"marker\": {\"color\": \"rgb(55,126,184)\", \"symbol\": [\"circle\", \"circle\", \"star\"], \"size\": 18}, \"line\": {\"width\": 3}}], {\"autosize\": false, \"width\": 600, \"height\": 700, \"title\": \"Similarities Scores for Step Size\", \"showlegend\": false, \"titlefont\": {\"size\": 25}, \"xaxis\": {\"range\": [-0.5, 2.5], \"showgrid\": true, \"zeroline\": false, \"showticklabels\": true, \"tickvals\": [0, 1, 2], \"tickfont\": {\"size\": 18}}, \"yaxis\": {\"range\": [-0.1, 1.1], \"showgrid\": true, \"zeroline\": true, \"showticklabels\": true, \"tickfont\": {\"size\": 15}}, \"annotations\": [{\"showarrow\": false, \"x\": \"Computer Science\", \"y\": \"0.8814717921015751\", \"text\": \"learning rate\", \"xanchor\": \"left\", \"xshift\": 14.3, \"font\": {\"size\": 18, \"color\": \"rgb(228,26,28)\"}}, {\"showarrow\": false, \"x\": \"Computer Science\", \"y\": \"0.9869723565362108\", \"text\": \"parameter \\u03bb\", \"xanchor\": \"left\", \"xshift\": 14.3, \"font\": {\"size\": 18, \"color\": \"rgb(55,126,184)\"}}]}, {\"showLink\": true, \"linkText\": \"Export to plot.ly\"})});</script>"
      ],
      "text/vnd.plotly.v1+html": [
       "<div id=\"a204dde9-e6a5-4092-9e40-56b2b2cc2fec\" style=\"height: 700px; width: 600px;\" class=\"plotly-graph-div\"></div><script type=\"text/javascript\">require([\"plotly\"], function(Plotly) { window.PLOTLYENV=window.PLOTLYENV || {};window.PLOTLYENV.BASE_URL=\"https://plot.ly\";Plotly.newPlot(\"a204dde9-e6a5-4092-9e40-56b2b2cc2fec\", [{\"type\": \"scatter\", \"x\": [\"Mathematics\", \"Statistics\", \"Computer Science\"], \"y\": [null, \"0.7409562760375761\", \"0.8814717921015751\"], \"mode\": \"markers+lines\", \"marker\": {\"color\": \"rgb(228,26,28)\", \"symbol\": [\"circle\", \"circle\", \"circle\"], \"size\": 18}, \"line\": {\"width\": 3}}, {\"type\": \"scatter\", \"x\": [\"Mathematics\", \"Statistics\", \"Computer Science\"], \"y\": [\"0.9439335373125881\", \"0.9268710827166333\", \"0.9869723565362108\"], \"mode\": \"markers+lines\", \"marker\": {\"color\": \"rgb(55,126,184)\", \"symbol\": [\"circle\", \"circle\", \"star\"], \"size\": 18}, \"line\": {\"width\": 3}}], {\"autosize\": false, \"width\": 600, \"height\": 700, \"title\": \"Similarities Scores for Step Size\", \"showlegend\": false, \"titlefont\": {\"size\": 25}, \"xaxis\": {\"range\": [-0.5, 2.5], \"showgrid\": true, \"zeroline\": false, \"showticklabels\": true, \"tickvals\": [0, 1, 2], \"tickfont\": {\"size\": 18}}, \"yaxis\": {\"range\": [-0.1, 1.1], \"showgrid\": true, \"zeroline\": true, \"showticklabels\": true, \"tickfont\": {\"size\": 15}}, \"annotations\": [{\"showarrow\": false, \"x\": \"Computer Science\", \"y\": \"0.8814717921015751\", \"text\": \"learning rate\", \"xanchor\": \"left\", \"xshift\": 14.3, \"font\": {\"size\": 18, \"color\": \"rgb(228,26,28)\"}}, {\"showarrow\": false, \"x\": \"Computer Science\", \"y\": \"0.9869723565362108\", \"text\": \"parameter \\u03bb\", \"xanchor\": \"left\", \"xshift\": 14.3, \"font\": {\"size\": 18, \"color\": \"rgb(55,126,184)\"}}]}, {\"showLink\": true, \"linkText\": \"Export to plot.ly\"})});</script>"
      ]
     },
     "metadata": {},
     "output_type": "display_data"
    }
   ],
   "source": [
    "word1 = 'step_size'\n",
    "test_words = ['learning_rate','parameter_λ']\n",
    "word1_title = word1_plot_title(word1)\n",
    "similarity_plots(word1, test_words, word1_title)"
   ]
  },
  {
   "cell_type": "code",
   "execution_count": 11,
   "metadata": {},
   "outputs": [
    {
     "data": {
      "application/vnd.plotly.v1+json": {
       "data": [
        {
         "line": {
          "width": 3
         },
         "marker": {
          "color": "rgb(228,26,28)",
          "size": 18,
          "symbol": [
           "star",
           "star",
           "circle"
          ]
         },
         "mode": "markers+lines",
         "type": "scatter",
         "x": [
          "Mathematics",
          "Statistics",
          "Computer Science"
         ],
         "y": [
          "0.6363758507273192",
          "0.5624496578277612",
          "0.44766143697161986"
         ]
        },
        {
         "line": {
          "width": 3
         },
         "marker": {
          "color": "rgb(55,126,184)",
          "size": 18,
          "symbol": [
           "circle",
           "circle",
           "star"
          ]
         },
         "mode": "markers+lines",
         "type": "scatter",
         "x": [
          "Mathematics",
          "Statistics",
          "Computer Science"
         ],
         "y": [
          "0.2966677335099015",
          "0.4054546239971885",
          "0.5110494767385146"
         ]
        }
       ],
       "layout": {
        "annotations": [
         {
          "font": {
           "color": "rgb(228,26,28)",
           "size": 18
          },
          "showarrow": false,
          "text": "measure",
          "x": "Computer Science",
          "xanchor": "left",
          "xshift": 7.700000000000001,
          "y": "0.44766143697161986"
         },
         {
          "font": {
           "color": "rgb(55,126,184)",
           "size": 18
          },
          "showarrow": false,
          "text": "mean",
          "x": "Computer Science",
          "xanchor": "left",
          "xshift": 7.700000000000001,
          "y": "0.5110494767385146"
         }
        ],
        "autosize": false,
        "height": 700,
        "showlegend": false,
        "title": "Similarities Scores for µ",
        "titlefont": {
         "size": 25
        },
        "width": 600,
        "xaxis": {
         "range": [
          -0.5,
          2.5
         ],
         "showgrid": true,
         "showticklabels": true,
         "tickfont": {
          "size": 18
         },
         "tickvals": [
          0,
          1,
          2
         ],
         "zeroline": false
        },
        "yaxis": {
         "range": [
          -0.1,
          1.1
         ],
         "showgrid": true,
         "showticklabels": true,
         "tickfont": {
          "size": 15
         },
         "zeroline": true
        }
       }
      },
      "text/html": [
       "<div id=\"34cbbb44-b4b3-4e51-87f3-e056ff3a0890\" style=\"height: 700px; width: 600px;\" class=\"plotly-graph-div\"></div><script type=\"text/javascript\">require([\"plotly\"], function(Plotly) { window.PLOTLYENV=window.PLOTLYENV || {};window.PLOTLYENV.BASE_URL=\"https://plot.ly\";Plotly.newPlot(\"34cbbb44-b4b3-4e51-87f3-e056ff3a0890\", [{\"type\": \"scatter\", \"x\": [\"Mathematics\", \"Statistics\", \"Computer Science\"], \"y\": [\"0.6363758507273192\", \"0.5624496578277612\", \"0.44766143697161986\"], \"mode\": \"markers+lines\", \"marker\": {\"color\": \"rgb(228,26,28)\", \"symbol\": [\"star\", \"star\", \"circle\"], \"size\": 18}, \"line\": {\"width\": 3}}, {\"type\": \"scatter\", \"x\": [\"Mathematics\", \"Statistics\", \"Computer Science\"], \"y\": [\"0.2966677335099015\", \"0.4054546239971885\", \"0.5110494767385146\"], \"mode\": \"markers+lines\", \"marker\": {\"color\": \"rgb(55,126,184)\", \"symbol\": [\"circle\", \"circle\", \"star\"], \"size\": 18}, \"line\": {\"width\": 3}}], {\"autosize\": false, \"width\": 600, \"height\": 700, \"title\": \"Similarities Scores for \\u00b5\", \"showlegend\": false, \"titlefont\": {\"size\": 25}, \"xaxis\": {\"range\": [-0.5, 2.5], \"showgrid\": true, \"zeroline\": false, \"showticklabels\": true, \"tickvals\": [0, 1, 2], \"tickfont\": {\"size\": 18}}, \"yaxis\": {\"range\": [-0.1, 1.1], \"showgrid\": true, \"zeroline\": true, \"showticklabels\": true, \"tickfont\": {\"size\": 15}}, \"annotations\": [{\"showarrow\": false, \"x\": \"Computer Science\", \"y\": \"0.44766143697161986\", \"text\": \"measure\", \"xanchor\": \"left\", \"xshift\": 7.700000000000001, \"font\": {\"size\": 18, \"color\": \"rgb(228,26,28)\"}}, {\"showarrow\": false, \"x\": \"Computer Science\", \"y\": \"0.5110494767385146\", \"text\": \"mean\", \"xanchor\": \"left\", \"xshift\": 7.700000000000001, \"font\": {\"size\": 18, \"color\": \"rgb(55,126,184)\"}}]}, {\"showLink\": true, \"linkText\": \"Export to plot.ly\"})});</script>"
      ],
      "text/vnd.plotly.v1+html": [
       "<div id=\"34cbbb44-b4b3-4e51-87f3-e056ff3a0890\" style=\"height: 700px; width: 600px;\" class=\"plotly-graph-div\"></div><script type=\"text/javascript\">require([\"plotly\"], function(Plotly) { window.PLOTLYENV=window.PLOTLYENV || {};window.PLOTLYENV.BASE_URL=\"https://plot.ly\";Plotly.newPlot(\"34cbbb44-b4b3-4e51-87f3-e056ff3a0890\", [{\"type\": \"scatter\", \"x\": [\"Mathematics\", \"Statistics\", \"Computer Science\"], \"y\": [\"0.6363758507273192\", \"0.5624496578277612\", \"0.44766143697161986\"], \"mode\": \"markers+lines\", \"marker\": {\"color\": \"rgb(228,26,28)\", \"symbol\": [\"star\", \"star\", \"circle\"], \"size\": 18}, \"line\": {\"width\": 3}}, {\"type\": \"scatter\", \"x\": [\"Mathematics\", \"Statistics\", \"Computer Science\"], \"y\": [\"0.2966677335099015\", \"0.4054546239971885\", \"0.5110494767385146\"], \"mode\": \"markers+lines\", \"marker\": {\"color\": \"rgb(55,126,184)\", \"symbol\": [\"circle\", \"circle\", \"star\"], \"size\": 18}, \"line\": {\"width\": 3}}], {\"autosize\": false, \"width\": 600, \"height\": 700, \"title\": \"Similarities Scores for \\u00b5\", \"showlegend\": false, \"titlefont\": {\"size\": 25}, \"xaxis\": {\"range\": [-0.5, 2.5], \"showgrid\": true, \"zeroline\": false, \"showticklabels\": true, \"tickvals\": [0, 1, 2], \"tickfont\": {\"size\": 18}}, \"yaxis\": {\"range\": [-0.1, 1.1], \"showgrid\": true, \"zeroline\": true, \"showticklabels\": true, \"tickfont\": {\"size\": 15}}, \"annotations\": [{\"showarrow\": false, \"x\": \"Computer Science\", \"y\": \"0.44766143697161986\", \"text\": \"measure\", \"xanchor\": \"left\", \"xshift\": 7.700000000000001, \"font\": {\"size\": 18, \"color\": \"rgb(228,26,28)\"}}, {\"showarrow\": false, \"x\": \"Computer Science\", \"y\": \"0.5110494767385146\", \"text\": \"mean\", \"xanchor\": \"left\", \"xshift\": 7.700000000000001, \"font\": {\"size\": 18, \"color\": \"rgb(55,126,184)\"}}]}, {\"showLink\": true, \"linkText\": \"Export to plot.ly\"})});</script>"
      ]
     },
     "metadata": {},
     "output_type": "display_data"
    }
   ],
   "source": [
    "word1 = 'µ'\n",
    "test_words = ['measure','mean']\n",
    "\n",
    "similarity_plots(word1, test_words, word1)"
   ]
  },
  {
   "cell_type": "code",
   "execution_count": 12,
   "metadata": {},
   "outputs": [
    {
     "data": {
      "application/vnd.plotly.v1+json": {
       "data": [
        {
         "line": {
          "width": 3
         },
         "marker": {
          "color": "rgb(228,26,28)",
          "size": 18,
          "symbol": [
           "circle",
           "circle",
           "circle"
          ]
         },
         "mode": "markers+lines",
         "type": "scatter",
         "x": [
          "Mathematics",
          "Statistics",
          "Computer Science"
         ],
         "y": [
          "0.25132130442531697",
          "0.4763735368318961",
          "0.296340658138765"
         ]
        },
        {
         "line": {
          "width": 3
         },
         "marker": {
          "color": "rgb(55,126,184)",
          "size": 18,
          "symbol": [
           "circle",
           "star",
           "star"
          ]
         },
         "mode": "markers+lines",
         "type": "scatter",
         "x": [
          "Mathematics",
          "Statistics",
          "Computer Science"
         ],
         "y": [
          "0.4392770734339828",
          "0.6848673149470283",
          "0.7507507118359179"
         ]
        },
        {
         "line": {
          "width": 3
         },
         "marker": {
          "color": "rgb(77,175,74)",
          "size": 18,
          "symbol": [
           "circle",
           "circle",
           "circle"
          ]
         },
         "mode": "markers+lines",
         "type": "scatter",
         "x": [
          "Mathematics",
          "Statistics",
          "Computer Science"
         ],
         "y": [
          "0.33960823920436545",
          "0.6004459988315681",
          "0.5929020371070655"
         ]
        },
        {
         "line": {
          "width": 3
         },
         "marker": {
          "color": "rgb(152,78,163)",
          "size": 18,
          "symbol": [
           "circle",
           "circle",
           "circle"
          ]
         },
         "mode": "markers+lines",
         "type": "scatter",
         "x": [
          "Mathematics",
          "Statistics",
          "Computer Science"
         ],
         "y": [
          "0.009561920070781993",
          "0.039237676064470706",
          "0.09376587652261392"
         ]
        }
       ],
       "layout": {
        "annotations": [
         {
          "font": {
           "color": "rgb(228,26,28)",
           "size": 18
          },
          "showarrow": false,
          "text": "partial",
          "x": "Computer Science",
          "xanchor": "left",
          "xshift": 11,
          "y": "0.296340658138765"
         },
         {
          "font": {
           "color": "rgb(55,126,184)",
           "size": 18
          },
          "showarrow": false,
          "text": "derivative",
          "x": "Computer Science",
          "xanchor": "left",
          "xshift": 11,
          "y": "0.7507507118359179"
         },
         {
          "font": {
           "color": "rgb(77,175,74)",
           "size": 18
          },
          "showarrow": false,
          "text": "jacobian",
          "x": "Computer Science",
          "xanchor": "left",
          "xshift": 11,
          "y": "0.5929020371070655"
         },
         {
          "font": {
           "color": "rgb(152,78,163)",
           "size": 18
          },
          "showarrow": false,
          "text": "rate",
          "x": "Computer Science",
          "xanchor": "left",
          "xshift": 11,
          "y": "0.09376587652261392"
         }
        ],
        "autosize": false,
        "height": 700,
        "showlegend": false,
        "title": "Similarities Scores for ∂",
        "titlefont": {
         "size": 25
        },
        "width": 600,
        "xaxis": {
         "range": [
          -0.5,
          2.5
         ],
         "showgrid": true,
         "showticklabels": true,
         "tickfont": {
          "size": 18
         },
         "tickvals": [
          0,
          1,
          2
         ],
         "zeroline": false
        },
        "yaxis": {
         "range": [
          -0.1,
          1.1
         ],
         "showgrid": true,
         "showticklabels": true,
         "tickfont": {
          "size": 15
         },
         "zeroline": true
        }
       }
      },
      "text/html": [
       "<div id=\"ded7eac3-5dea-4cc9-971d-07754ab7a270\" style=\"height: 700px; width: 600px;\" class=\"plotly-graph-div\"></div><script type=\"text/javascript\">require([\"plotly\"], function(Plotly) { window.PLOTLYENV=window.PLOTLYENV || {};window.PLOTLYENV.BASE_URL=\"https://plot.ly\";Plotly.newPlot(\"ded7eac3-5dea-4cc9-971d-07754ab7a270\", [{\"type\": \"scatter\", \"x\": [\"Mathematics\", \"Statistics\", \"Computer Science\"], \"y\": [\"0.25132130442531697\", \"0.4763735368318961\", \"0.296340658138765\"], \"mode\": \"markers+lines\", \"marker\": {\"color\": \"rgb(228,26,28)\", \"symbol\": [\"circle\", \"circle\", \"circle\"], \"size\": 18}, \"line\": {\"width\": 3}}, {\"type\": \"scatter\", \"x\": [\"Mathematics\", \"Statistics\", \"Computer Science\"], \"y\": [\"0.4392770734339828\", \"0.6848673149470283\", \"0.7507507118359179\"], \"mode\": \"markers+lines\", \"marker\": {\"color\": \"rgb(55,126,184)\", \"symbol\": [\"circle\", \"star\", \"star\"], \"size\": 18}, \"line\": {\"width\": 3}}, {\"type\": \"scatter\", \"x\": [\"Mathematics\", \"Statistics\", \"Computer Science\"], \"y\": [\"0.33960823920436545\", \"0.6004459988315681\", \"0.5929020371070655\"], \"mode\": \"markers+lines\", \"marker\": {\"color\": \"rgb(77,175,74)\", \"symbol\": [\"circle\", \"circle\", \"circle\"], \"size\": 18}, \"line\": {\"width\": 3}}, {\"type\": \"scatter\", \"x\": [\"Mathematics\", \"Statistics\", \"Computer Science\"], \"y\": [\"0.009561920070781993\", \"0.039237676064470706\", \"0.09376587652261392\"], \"mode\": \"markers+lines\", \"marker\": {\"color\": \"rgb(152,78,163)\", \"symbol\": [\"circle\", \"circle\", \"circle\"], \"size\": 18}, \"line\": {\"width\": 3}}], {\"autosize\": false, \"width\": 600, \"height\": 700, \"title\": \"Similarities Scores for \\u2202\", \"showlegend\": false, \"titlefont\": {\"size\": 25}, \"xaxis\": {\"range\": [-0.5, 2.5], \"showgrid\": true, \"zeroline\": false, \"showticklabels\": true, \"tickvals\": [0, 1, 2], \"tickfont\": {\"size\": 18}}, \"yaxis\": {\"range\": [-0.1, 1.1], \"showgrid\": true, \"zeroline\": true, \"showticklabels\": true, \"tickfont\": {\"size\": 15}}, \"annotations\": [{\"showarrow\": false, \"x\": \"Computer Science\", \"y\": \"0.296340658138765\", \"text\": \"partial\", \"xanchor\": \"left\", \"xshift\": 11.0, \"font\": {\"size\": 18, \"color\": \"rgb(228,26,28)\"}}, {\"showarrow\": false, \"x\": \"Computer Science\", \"y\": \"0.7507507118359179\", \"text\": \"derivative\", \"xanchor\": \"left\", \"xshift\": 11.0, \"font\": {\"size\": 18, \"color\": \"rgb(55,126,184)\"}}, {\"showarrow\": false, \"x\": \"Computer Science\", \"y\": \"0.5929020371070655\", \"text\": \"jacobian\", \"xanchor\": \"left\", \"xshift\": 11.0, \"font\": {\"size\": 18, \"color\": \"rgb(77,175,74)\"}}, {\"showarrow\": false, \"x\": \"Computer Science\", \"y\": \"0.09376587652261392\", \"text\": \"rate\", \"xanchor\": \"left\", \"xshift\": 11.0, \"font\": {\"size\": 18, \"color\": \"rgb(152,78,163)\"}}]}, {\"showLink\": true, \"linkText\": \"Export to plot.ly\"})});</script>"
      ],
      "text/vnd.plotly.v1+html": [
       "<div id=\"ded7eac3-5dea-4cc9-971d-07754ab7a270\" style=\"height: 700px; width: 600px;\" class=\"plotly-graph-div\"></div><script type=\"text/javascript\">require([\"plotly\"], function(Plotly) { window.PLOTLYENV=window.PLOTLYENV || {};window.PLOTLYENV.BASE_URL=\"https://plot.ly\";Plotly.newPlot(\"ded7eac3-5dea-4cc9-971d-07754ab7a270\", [{\"type\": \"scatter\", \"x\": [\"Mathematics\", \"Statistics\", \"Computer Science\"], \"y\": [\"0.25132130442531697\", \"0.4763735368318961\", \"0.296340658138765\"], \"mode\": \"markers+lines\", \"marker\": {\"color\": \"rgb(228,26,28)\", \"symbol\": [\"circle\", \"circle\", \"circle\"], \"size\": 18}, \"line\": {\"width\": 3}}, {\"type\": \"scatter\", \"x\": [\"Mathematics\", \"Statistics\", \"Computer Science\"], \"y\": [\"0.4392770734339828\", \"0.6848673149470283\", \"0.7507507118359179\"], \"mode\": \"markers+lines\", \"marker\": {\"color\": \"rgb(55,126,184)\", \"symbol\": [\"circle\", \"star\", \"star\"], \"size\": 18}, \"line\": {\"width\": 3}}, {\"type\": \"scatter\", \"x\": [\"Mathematics\", \"Statistics\", \"Computer Science\"], \"y\": [\"0.33960823920436545\", \"0.6004459988315681\", \"0.5929020371070655\"], \"mode\": \"markers+lines\", \"marker\": {\"color\": \"rgb(77,175,74)\", \"symbol\": [\"circle\", \"circle\", \"circle\"], \"size\": 18}, \"line\": {\"width\": 3}}, {\"type\": \"scatter\", \"x\": [\"Mathematics\", \"Statistics\", \"Computer Science\"], \"y\": [\"0.009561920070781993\", \"0.039237676064470706\", \"0.09376587652261392\"], \"mode\": \"markers+lines\", \"marker\": {\"color\": \"rgb(152,78,163)\", \"symbol\": [\"circle\", \"circle\", \"circle\"], \"size\": 18}, \"line\": {\"width\": 3}}], {\"autosize\": false, \"width\": 600, \"height\": 700, \"title\": \"Similarities Scores for \\u2202\", \"showlegend\": false, \"titlefont\": {\"size\": 25}, \"xaxis\": {\"range\": [-0.5, 2.5], \"showgrid\": true, \"zeroline\": false, \"showticklabels\": true, \"tickvals\": [0, 1, 2], \"tickfont\": {\"size\": 18}}, \"yaxis\": {\"range\": [-0.1, 1.1], \"showgrid\": true, \"zeroline\": true, \"showticklabels\": true, \"tickfont\": {\"size\": 15}}, \"annotations\": [{\"showarrow\": false, \"x\": \"Computer Science\", \"y\": \"0.296340658138765\", \"text\": \"partial\", \"xanchor\": \"left\", \"xshift\": 11.0, \"font\": {\"size\": 18, \"color\": \"rgb(228,26,28)\"}}, {\"showarrow\": false, \"x\": \"Computer Science\", \"y\": \"0.7507507118359179\", \"text\": \"derivative\", \"xanchor\": \"left\", \"xshift\": 11.0, \"font\": {\"size\": 18, \"color\": \"rgb(55,126,184)\"}}, {\"showarrow\": false, \"x\": \"Computer Science\", \"y\": \"0.5929020371070655\", \"text\": \"jacobian\", \"xanchor\": \"left\", \"xshift\": 11.0, \"font\": {\"size\": 18, \"color\": \"rgb(77,175,74)\"}}, {\"showarrow\": false, \"x\": \"Computer Science\", \"y\": \"0.09376587652261392\", \"text\": \"rate\", \"xanchor\": \"left\", \"xshift\": 11.0, \"font\": {\"size\": 18, \"color\": \"rgb(152,78,163)\"}}]}, {\"showLink\": true, \"linkText\": \"Export to plot.ly\"})});</script>"
      ]
     },
     "metadata": {},
     "output_type": "display_data"
    }
   ],
   "source": [
    "word1 =  '∂'\n",
    "test_words = ['partial','derivative','jacobian','rate']\n",
    "\n",
    "similarity_plots(word1, test_words, word1)"
   ]
  },
  {
   "cell_type": "code",
   "execution_count": 13,
   "metadata": {},
   "outputs": [
    {
     "data": {
      "application/vnd.plotly.v1+json": {
       "data": [
        {
         "line": {
          "width": 3
         },
         "marker": {
          "color": "rgb(228,26,28)",
          "size": 18,
          "symbol": [
           "circle",
           "circle",
           "circle"
          ]
         },
         "mode": "markers+lines",
         "type": "scatter",
         "x": [
          "Mathematics",
          "Statistics",
          "Computer Science"
         ],
         "y": [
          "0.11855648030285862",
          "0.23982648580025503",
          "0.21878935137929437"
         ]
        },
        {
         "line": {
          "width": 3
         },
         "marker": {
          "color": "rgb(55,126,184)",
          "size": 18,
          "symbol": [
           "circle",
           "star",
           "circle"
          ]
         },
         "mode": "markers+lines",
         "type": "scatter",
         "x": [
          "Mathematics",
          "Statistics",
          "Computer Science"
         ],
         "y": [
          null,
          "0.5499881848158468",
          "0.36834400031912107"
         ]
        },
        {
         "line": {
          "width": 3
         },
         "marker": {
          "color": "rgb(77,175,74)",
          "size": 18,
          "symbol": [
           "circle",
           "circle",
           "circle"
          ]
         },
         "mode": "markers+lines",
         "type": "scatter",
         "x": [
          "Mathematics",
          "Statistics",
          "Computer Science"
         ],
         "y": [
          "0.35187683551574095",
          "0.4391793077702546",
          "0.4300233596063732"
         ]
        },
        {
         "line": {
          "width": 3
         },
         "marker": {
          "color": "rgb(152,78,163)",
          "size": 18,
          "symbol": [
           "circle",
           "circle",
           "circle"
          ]
         },
         "mode": "markers+lines",
         "type": "scatter",
         "x": [
          "Mathematics",
          "Statistics",
          "Computer Science"
         ],
         "y": [
          "0.4020875460236339",
          "0.4729675307035408",
          "0.3895134361390369"
         ]
        },
        {
         "line": {
          "width": 3
         },
         "marker": {
          "color": "rgb(255,127,0)",
          "size": 18,
          "symbol": [
           "circle",
           "star",
           "circle"
          ]
         },
         "mode": "markers+lines",
         "type": "scatter",
         "x": [
          "Mathematics",
          "Statistics",
          "Computer Science"
         ],
         "y": [
          null,
          "0.5662397881860572",
          "0.04216606132084341"
         ]
        }
       ],
       "layout": {
        "annotations": [
         {
          "font": {
           "color": "rgb(228,26,28)",
           "size": 18
          },
          "showarrow": false,
          "text": "loss",
          "x": "Computer Science",
          "xanchor": "left",
          "xshift": 14.3,
          "y": "0.21878935137929437"
         },
         {
          "font": {
           "color": "rgb(55,126,184)",
           "size": 18
          },
          "showarrow": false,
          "text": "loglikelihood",
          "x": "Computer Science",
          "xanchor": "left",
          "xshift": 14.3,
          "y": "0.36834400031912107"
         },
         {
          "font": {
           "color": "rgb(77,175,74)",
           "size": 18
          },
          "showarrow": false,
          "text": "likelihood",
          "x": "Computer Science",
          "xanchor": "left",
          "xshift": 14.3,
          "y": "0.4300233596063732"
         },
         {
          "font": {
           "color": "rgb(152,78,163)",
           "size": 18
          },
          "showarrow": false,
          "text": "entropy",
          "x": "Computer Science",
          "xanchor": "left",
          "xshift": 14.3,
          "y": "0.3895134361390369"
         },
         {
          "font": {
           "color": "rgb(255,127,0)",
           "size": 18
          },
          "showarrow": false,
          "text": "odds",
          "x": "Computer Science",
          "xanchor": "left",
          "xshift": 14.3,
          "y": "0.04216606132084341"
         }
        ],
        "autosize": false,
        "height": 700,
        "showlegend": false,
        "title": "Similarities Scores for log",
        "titlefont": {
         "size": 25
        },
        "width": 600,
        "xaxis": {
         "range": [
          -0.5,
          2.5
         ],
         "showgrid": true,
         "showticklabels": true,
         "tickfont": {
          "size": 18
         },
         "tickvals": [
          0,
          1,
          2
         ],
         "zeroline": false
        },
        "yaxis": {
         "range": [
          -0.1,
          1.1
         ],
         "showgrid": true,
         "showticklabels": true,
         "tickfont": {
          "size": 15
         },
         "zeroline": true
        }
       }
      },
      "text/html": [
       "<div id=\"53dfdd42-1a15-4dd8-9b0a-81f63c9aac87\" style=\"height: 700px; width: 600px;\" class=\"plotly-graph-div\"></div><script type=\"text/javascript\">require([\"plotly\"], function(Plotly) { window.PLOTLYENV=window.PLOTLYENV || {};window.PLOTLYENV.BASE_URL=\"https://plot.ly\";Plotly.newPlot(\"53dfdd42-1a15-4dd8-9b0a-81f63c9aac87\", [{\"type\": \"scatter\", \"x\": [\"Mathematics\", \"Statistics\", \"Computer Science\"], \"y\": [\"0.11855648030285862\", \"0.23982648580025503\", \"0.21878935137929437\"], \"mode\": \"markers+lines\", \"marker\": {\"color\": \"rgb(228,26,28)\", \"symbol\": [\"circle\", \"circle\", \"circle\"], \"size\": 18}, \"line\": {\"width\": 3}}, {\"type\": \"scatter\", \"x\": [\"Mathematics\", \"Statistics\", \"Computer Science\"], \"y\": [null, \"0.5499881848158468\", \"0.36834400031912107\"], \"mode\": \"markers+lines\", \"marker\": {\"color\": \"rgb(55,126,184)\", \"symbol\": [\"circle\", \"star\", \"circle\"], \"size\": 18}, \"line\": {\"width\": 3}}, {\"type\": \"scatter\", \"x\": [\"Mathematics\", \"Statistics\", \"Computer Science\"], \"y\": [\"0.35187683551574095\", \"0.4391793077702546\", \"0.4300233596063732\"], \"mode\": \"markers+lines\", \"marker\": {\"color\": \"rgb(77,175,74)\", \"symbol\": [\"circle\", \"circle\", \"circle\"], \"size\": 18}, \"line\": {\"width\": 3}}, {\"type\": \"scatter\", \"x\": [\"Mathematics\", \"Statistics\", \"Computer Science\"], \"y\": [\"0.4020875460236339\", \"0.4729675307035408\", \"0.3895134361390369\"], \"mode\": \"markers+lines\", \"marker\": {\"color\": \"rgb(152,78,163)\", \"symbol\": [\"circle\", \"circle\", \"circle\"], \"size\": 18}, \"line\": {\"width\": 3}}, {\"type\": \"scatter\", \"x\": [\"Mathematics\", \"Statistics\", \"Computer Science\"], \"y\": [null, \"0.5662397881860572\", \"0.04216606132084341\"], \"mode\": \"markers+lines\", \"marker\": {\"color\": \"rgb(255,127,0)\", \"symbol\": [\"circle\", \"star\", \"circle\"], \"size\": 18}, \"line\": {\"width\": 3}}], {\"autosize\": false, \"width\": 600, \"height\": 700, \"title\": \"Similarities Scores for log\", \"showlegend\": false, \"titlefont\": {\"size\": 25}, \"xaxis\": {\"range\": [-0.5, 2.5], \"showgrid\": true, \"zeroline\": false, \"showticklabels\": true, \"tickvals\": [0, 1, 2], \"tickfont\": {\"size\": 18}}, \"yaxis\": {\"range\": [-0.1, 1.1], \"showgrid\": true, \"zeroline\": true, \"showticklabels\": true, \"tickfont\": {\"size\": 15}}, \"annotations\": [{\"showarrow\": false, \"x\": \"Computer Science\", \"y\": \"0.21878935137929437\", \"text\": \"loss\", \"xanchor\": \"left\", \"xshift\": 14.3, \"font\": {\"size\": 18, \"color\": \"rgb(228,26,28)\"}}, {\"showarrow\": false, \"x\": \"Computer Science\", \"y\": \"0.36834400031912107\", \"text\": \"loglikelihood\", \"xanchor\": \"left\", \"xshift\": 14.3, \"font\": {\"size\": 18, \"color\": \"rgb(55,126,184)\"}}, {\"showarrow\": false, \"x\": \"Computer Science\", \"y\": \"0.4300233596063732\", \"text\": \"likelihood\", \"xanchor\": \"left\", \"xshift\": 14.3, \"font\": {\"size\": 18, \"color\": \"rgb(77,175,74)\"}}, {\"showarrow\": false, \"x\": \"Computer Science\", \"y\": \"0.3895134361390369\", \"text\": \"entropy\", \"xanchor\": \"left\", \"xshift\": 14.3, \"font\": {\"size\": 18, \"color\": \"rgb(152,78,163)\"}}, {\"showarrow\": false, \"x\": \"Computer Science\", \"y\": \"0.04216606132084341\", \"text\": \"odds\", \"xanchor\": \"left\", \"xshift\": 14.3, \"font\": {\"size\": 18, \"color\": \"rgb(255,127,0)\"}}]}, {\"showLink\": true, \"linkText\": \"Export to plot.ly\"})});</script>"
      ],
      "text/vnd.plotly.v1+html": [
       "<div id=\"53dfdd42-1a15-4dd8-9b0a-81f63c9aac87\" style=\"height: 700px; width: 600px;\" class=\"plotly-graph-div\"></div><script type=\"text/javascript\">require([\"plotly\"], function(Plotly) { window.PLOTLYENV=window.PLOTLYENV || {};window.PLOTLYENV.BASE_URL=\"https://plot.ly\";Plotly.newPlot(\"53dfdd42-1a15-4dd8-9b0a-81f63c9aac87\", [{\"type\": \"scatter\", \"x\": [\"Mathematics\", \"Statistics\", \"Computer Science\"], \"y\": [\"0.11855648030285862\", \"0.23982648580025503\", \"0.21878935137929437\"], \"mode\": \"markers+lines\", \"marker\": {\"color\": \"rgb(228,26,28)\", \"symbol\": [\"circle\", \"circle\", \"circle\"], \"size\": 18}, \"line\": {\"width\": 3}}, {\"type\": \"scatter\", \"x\": [\"Mathematics\", \"Statistics\", \"Computer Science\"], \"y\": [null, \"0.5499881848158468\", \"0.36834400031912107\"], \"mode\": \"markers+lines\", \"marker\": {\"color\": \"rgb(55,126,184)\", \"symbol\": [\"circle\", \"star\", \"circle\"], \"size\": 18}, \"line\": {\"width\": 3}}, {\"type\": \"scatter\", \"x\": [\"Mathematics\", \"Statistics\", \"Computer Science\"], \"y\": [\"0.35187683551574095\", \"0.4391793077702546\", \"0.4300233596063732\"], \"mode\": \"markers+lines\", \"marker\": {\"color\": \"rgb(77,175,74)\", \"symbol\": [\"circle\", \"circle\", \"circle\"], \"size\": 18}, \"line\": {\"width\": 3}}, {\"type\": \"scatter\", \"x\": [\"Mathematics\", \"Statistics\", \"Computer Science\"], \"y\": [\"0.4020875460236339\", \"0.4729675307035408\", \"0.3895134361390369\"], \"mode\": \"markers+lines\", \"marker\": {\"color\": \"rgb(152,78,163)\", \"symbol\": [\"circle\", \"circle\", \"circle\"], \"size\": 18}, \"line\": {\"width\": 3}}, {\"type\": \"scatter\", \"x\": [\"Mathematics\", \"Statistics\", \"Computer Science\"], \"y\": [null, \"0.5662397881860572\", \"0.04216606132084341\"], \"mode\": \"markers+lines\", \"marker\": {\"color\": \"rgb(255,127,0)\", \"symbol\": [\"circle\", \"star\", \"circle\"], \"size\": 18}, \"line\": {\"width\": 3}}], {\"autosize\": false, \"width\": 600, \"height\": 700, \"title\": \"Similarities Scores for log\", \"showlegend\": false, \"titlefont\": {\"size\": 25}, \"xaxis\": {\"range\": [-0.5, 2.5], \"showgrid\": true, \"zeroline\": false, \"showticklabels\": true, \"tickvals\": [0, 1, 2], \"tickfont\": {\"size\": 18}}, \"yaxis\": {\"range\": [-0.1, 1.1], \"showgrid\": true, \"zeroline\": true, \"showticklabels\": true, \"tickfont\": {\"size\": 15}}, \"annotations\": [{\"showarrow\": false, \"x\": \"Computer Science\", \"y\": \"0.21878935137929437\", \"text\": \"loss\", \"xanchor\": \"left\", \"xshift\": 14.3, \"font\": {\"size\": 18, \"color\": \"rgb(228,26,28)\"}}, {\"showarrow\": false, \"x\": \"Computer Science\", \"y\": \"0.36834400031912107\", \"text\": \"loglikelihood\", \"xanchor\": \"left\", \"xshift\": 14.3, \"font\": {\"size\": 18, \"color\": \"rgb(55,126,184)\"}}, {\"showarrow\": false, \"x\": \"Computer Science\", \"y\": \"0.4300233596063732\", \"text\": \"likelihood\", \"xanchor\": \"left\", \"xshift\": 14.3, \"font\": {\"size\": 18, \"color\": \"rgb(77,175,74)\"}}, {\"showarrow\": false, \"x\": \"Computer Science\", \"y\": \"0.3895134361390369\", \"text\": \"entropy\", \"xanchor\": \"left\", \"xshift\": 14.3, \"font\": {\"size\": 18, \"color\": \"rgb(152,78,163)\"}}, {\"showarrow\": false, \"x\": \"Computer Science\", \"y\": \"0.04216606132084341\", \"text\": \"odds\", \"xanchor\": \"left\", \"xshift\": 14.3, \"font\": {\"size\": 18, \"color\": \"rgb(255,127,0)\"}}]}, {\"showLink\": true, \"linkText\": \"Export to plot.ly\"})});</script>"
      ]
     },
     "metadata": {},
     "output_type": "display_data"
    }
   ],
   "source": [
    "word1 =  'log'\n",
    "test_words = ['loss','loglikelihood','likelihood','entropy','odds']\n",
    "\n",
    "similarity_plots(word1, test_words, word1)"
   ]
  },
  {
   "cell_type": "markdown",
   "metadata": {},
   "source": [
    "# Comparing Results Across Fields"
   ]
  },
  {
   "cell_type": "markdown",
   "metadata": {},
   "source": [
    "## First Level"
   ]
  },
  {
   "cell_type": "code",
   "execution_count": 14,
   "metadata": {},
   "outputs": [],
   "source": [
    "def get_top10_all(word1):\n",
    "    mdf = pd.DataFrame()\n",
    "    sdf = pd.DataFrame()\n",
    "    cdf = pd.DataFrame()\n",
    "    \n",
    "    try:\n",
    "        mdf = pd.DataFrame(math_model.wv.most_similar(word1, topn=10), columns = ['math','similarity'])\n",
    "    except:\n",
    "        None\n",
    "    \n",
    "    try:\n",
    "        sdf = pd.DataFrame(stats_model.wv.most_similar(word1, topn=10), columns = ['stats','similarity'])\n",
    "    except:\n",
    "        None\n",
    "        \n",
    "    try:\n",
    "        cdf = pd.DataFrame(cs_model.wv.most_similar(word1, topn=10), columns = ['cs','similarity'])\n",
    "    except:\n",
    "        None\n",
    "\n",
    "    return pd.concat([mdf,sdf,cdf], axis=1)"
   ]
  },
  {
   "cell_type": "code",
   "execution_count": 16,
   "metadata": {},
   "outputs": [],
   "source": [
    "symbols = ['𝜞', '𝝏', '∍', '𝛐', '𝝑', 'ι', 'Ν', '𝝌', '𝚪', 'Υ', '𝜑', 'Π', '𝜅', '𝜸', 'ϑ', '𝝆', '⎿', '𝛊', '𝜂', \n",
    "              '𝛘', '𝛻', '𝝄', '𝝁', '𝝘', '𝜉', '𝛌', 'β', '𝝐', '𝜷', '≤', '𝜃', '𝜹', 'Λ', '∀', '𝛝', 'ς', '𝛿', '𝛏', \n",
    "              '∀', '𝝍', 'Ω', '𝛛', '𝝙', '𝛄', '𝛚', '∈', '𝛞', '≪', '⇏', '𝛾', '𝝊', 'ǫ', 'θ', '∞', 'ζ', '𝜌', \n",
    "              '∅', 'Γ', 'φ', '𝜿', '𝛽', '𝝕', '𝜚', '𝛟', '𝝓', 'ρ', 'λ', 'σ', '∪', '<', '𝛖', '𝛆', 'α', '𝛷', 'ο', 'χ', \n",
    "              '𝜊', '𝝈', '≩', '𝛍', '↔', '𝛡', 'η', 'Μ', '⟾', '⊤' '𝜓', 'xi', '∴', '⊆', 'Η', '𝛃', 'Ζ', '𝜘', \n",
    "              '⤃', '𝛠', 'κ', 'ξ', 'ω', '≨', 'ℝ', '𝜕', 'Ξ', 'Ψ', '≈', 'τ', '𝛎', '𝛑', '𝝂', '𝜽', '𝛥', '⇔', '𝛇', '∬', \n",
    "              '⊃', '𝜒', '𝛂', '𝜙', '𝜼', 'δ', '𝜶', '𝛬', '>', '𝝒', '𝜈', '𝛈', '𝛹', 'Σ', 'ψ', '𝛋', '𝜏', 'Ι', '≡', 'μ', \n",
    "              'ν', 'Α', '𝝔', '𝝀', '𝜐', '⤇', '𝛔', '⊇', '⇒', '𝝃', '𝜻', '𝛜', '⊉', '⊈', '∉', '≃', 'st', 'Ρ', '𝛓', '𝜋', \n",
    "              '𝜆', 'Τ', '𝜇', '𝜀', 'µ', '𝜾', 'π', '∋', '⊂', '∫', 'Β', '⊅', 'Χ', '⊄', '𝜍', '∵', '𝜛', '±', '·', '𝛉', \n",
    "              '𝜁', '𝝎', '𝛙', '∮', '𝝉', 'γ', '𝛼', '∆', 'Δ', '𝜄', '𝛗', 'Ο', '∩', 'Κ', '𝜺', '𝜗', 'rm×n', '𝜎', 'Θ', \n",
    "              '∂', 'Φ', '∧', '𝜖', '𝛤', '𝝋', '𝝇', 'ε', 'Ε', 'υ', '∑', '𝛅', '𝛒', '≫', '𝝅', '𝛕' ]"
   ]
  },
  {
   "cell_type": "code",
   "execution_count": 18,
   "metadata": {},
   "outputs": [
    {
     "data": {
      "text/html": [
       "<div>\n",
       "<style scoped>\n",
       "    .dataframe tbody tr th:only-of-type {\n",
       "        vertical-align: middle;\n",
       "    }\n",
       "\n",
       "    .dataframe tbody tr th {\n",
       "        vertical-align: top;\n",
       "    }\n",
       "\n",
       "    .dataframe thead th {\n",
       "        text-align: right;\n",
       "    }\n",
       "</style>\n",
       "<table border=\"1\" class=\"dataframe\">\n",
       "  <thead>\n",
       "    <tr style=\"text-align: right;\">\n",
       "      <th></th>\n",
       "      <th>stats</th>\n",
       "      <th>similarity</th>\n",
       "      <th>cs</th>\n",
       "      <th>similarity</th>\n",
       "    </tr>\n",
       "  </thead>\n",
       "  <tbody>\n",
       "    <tr>\n",
       "      <th>0</th>\n",
       "      <td>example_consider</td>\n",
       "      <td>0.995987</td>\n",
       "      <td>dynamics_model</td>\n",
       "      <td>0.994234</td>\n",
       "    </tr>\n",
       "    <tr>\n",
       "      <th>1</th>\n",
       "      <td>piecewise_constant</td>\n",
       "      <td>0.995442</td>\n",
       "      <td>one_might</td>\n",
       "      <td>0.992155</td>\n",
       "    </tr>\n",
       "    <tr>\n",
       "      <th>2</th>\n",
       "      <td>using_empirical</td>\n",
       "      <td>0.993772</td>\n",
       "      <td>regression_model</td>\n",
       "      <td>0.991760</td>\n",
       "    </tr>\n",
       "    <tr>\n",
       "      <th>3</th>\n",
       "      <td>worth_mentioning</td>\n",
       "      <td>0.993710</td>\n",
       "      <td>given_dataset</td>\n",
       "      <td>0.991612</td>\n",
       "    </tr>\n",
       "    <tr>\n",
       "      <th>4</th>\n",
       "      <td>one_way</td>\n",
       "      <td>0.993283</td>\n",
       "      <td>simple_linear</td>\n",
       "      <td>0.991302</td>\n",
       "    </tr>\n",
       "    <tr>\n",
       "      <th>5</th>\n",
       "      <td>distribution_see</td>\n",
       "      <td>0.992212</td>\n",
       "      <td>paper_use</td>\n",
       "      <td>0.991263</td>\n",
       "    </tr>\n",
       "    <tr>\n",
       "      <th>6</th>\n",
       "      <td>probability_model</td>\n",
       "      <td>0.992202</td>\n",
       "      <td>figure_left</td>\n",
       "      <td>0.991066</td>\n",
       "    </tr>\n",
       "    <tr>\n",
       "      <th>7</th>\n",
       "      <td>general_model</td>\n",
       "      <td>0.992166</td>\n",
       "      <td>linear_regression</td>\n",
       "      <td>0.991006</td>\n",
       "    </tr>\n",
       "    <tr>\n",
       "      <th>8</th>\n",
       "      <td>starting_point</td>\n",
       "      <td>0.991965</td>\n",
       "      <td>small_subset</td>\n",
       "      <td>0.990673</td>\n",
       "    </tr>\n",
       "    <tr>\n",
       "      <th>9</th>\n",
       "      <td>scaling_factor</td>\n",
       "      <td>0.991549</td>\n",
       "      <td>much_like</td>\n",
       "      <td>0.990643</td>\n",
       "    </tr>\n",
       "  </tbody>\n",
       "</table>\n",
       "</div>"
      ],
      "text/plain": [
       "                stats  similarity                 cs  similarity\n",
       "0    example_consider    0.995987     dynamics_model    0.994234\n",
       "1  piecewise_constant    0.995442          one_might    0.992155\n",
       "2     using_empirical    0.993772   regression_model    0.991760\n",
       "3    worth_mentioning    0.993710      given_dataset    0.991612\n",
       "4             one_way    0.993283      simple_linear    0.991302\n",
       "5    distribution_see    0.992212          paper_use    0.991263\n",
       "6   probability_model    0.992202        figure_left    0.991066\n",
       "7       general_model    0.992166  linear_regression    0.991006\n",
       "8      starting_point    0.991965       small_subset    0.990673\n",
       "9      scaling_factor    0.991549          much_like    0.990643"
      ]
     },
     "execution_count": 18,
     "metadata": {},
     "output_type": "execute_result"
    }
   ],
   "source": [
    "get_top10_all('linear_model')"
   ]
  },
  {
   "cell_type": "code",
   "execution_count": 19,
   "metadata": {},
   "outputs": [
    {
     "data": {
      "text/html": [
       "<div>\n",
       "<style scoped>\n",
       "    .dataframe tbody tr th:only-of-type {\n",
       "        vertical-align: middle;\n",
       "    }\n",
       "\n",
       "    .dataframe tbody tr th {\n",
       "        vertical-align: top;\n",
       "    }\n",
       "\n",
       "    .dataframe thead th {\n",
       "        text-align: right;\n",
       "    }\n",
       "</style>\n",
       "<table border=\"1\" class=\"dataframe\">\n",
       "  <thead>\n",
       "    <tr style=\"text-align: right;\">\n",
       "      <th></th>\n",
       "      <th>math</th>\n",
       "      <th>similarity</th>\n",
       "      <th>stats</th>\n",
       "      <th>similarity</th>\n",
       "      <th>cs</th>\n",
       "      <th>similarity</th>\n",
       "    </tr>\n",
       "  </thead>\n",
       "  <tbody>\n",
       "    <tr>\n",
       "      <th>0</th>\n",
       "      <td>qλ</td>\n",
       "      <td>0.831288</td>\n",
       "      <td>δµ</td>\n",
       "      <td>0.705000</td>\n",
       "      <td>rλ</td>\n",
       "      <td>0.730541</td>\n",
       "    </tr>\n",
       "    <tr>\n",
       "      <th>1</th>\n",
       "      <td>aλ</td>\n",
       "      <td>0.803907</td>\n",
       "      <td>λσ</td>\n",
       "      <td>0.680993</td>\n",
       "      <td>fλ</td>\n",
       "      <td>0.717076</td>\n",
       "    </tr>\n",
       "    <tr>\n",
       "      <th>2</th>\n",
       "      <td>lλ</td>\n",
       "      <td>0.766888</td>\n",
       "      <td>πλ</td>\n",
       "      <td>0.664533</td>\n",
       "      <td>qλ</td>\n",
       "      <td>0.711838</td>\n",
       "    </tr>\n",
       "    <tr>\n",
       "      <th>3</th>\n",
       "      <td>˜λ</td>\n",
       "      <td>0.753195</td>\n",
       "      <td>´ωjh</td>\n",
       "      <td>0.664143</td>\n",
       "      <td>sλ</td>\n",
       "      <td>0.642061</td>\n",
       "    </tr>\n",
       "    <tr>\n",
       "      <th>4</th>\n",
       "      <td>sλ</td>\n",
       "      <td>0.750431</td>\n",
       "      <td>f·</td>\n",
       "      <td>0.655204</td>\n",
       "      <td>∃t</td>\n",
       "      <td>0.613401</td>\n",
       "    </tr>\n",
       "    <tr>\n",
       "      <th>5</th>\n",
       "      <td>χλ</td>\n",
       "      <td>0.742127</td>\n",
       "      <td>σλ</td>\n",
       "      <td>0.652292</td>\n",
       "      <td>♥</td>\n",
       "      <td>0.592571</td>\n",
       "    </tr>\n",
       "    <tr>\n",
       "      <th>6</th>\n",
       "      <td>hλ</td>\n",
       "      <td>0.740442</td>\n",
       "      <td>cλ</td>\n",
       "      <td>0.642184</td>\n",
       "      <td>dλ</td>\n",
       "      <td>0.589962</td>\n",
       "    </tr>\n",
       "    <tr>\n",
       "      <th>7</th>\n",
       "      <td>cλ</td>\n",
       "      <td>0.734365</td>\n",
       "      <td>λ−</td>\n",
       "      <td>0.641564</td>\n",
       "      <td>ψθ</td>\n",
       "      <td>0.580467</td>\n",
       "    </tr>\n",
       "    <tr>\n",
       "      <th>8</th>\n",
       "      <td>λ</td>\n",
       "      <td>0.733722</td>\n",
       "      <td>γnc</td>\n",
       "      <td>0.636235</td>\n",
       "      <td>λv</td>\n",
       "      <td>0.580000</td>\n",
       "    </tr>\n",
       "    <tr>\n",
       "      <th>9</th>\n",
       "      <td>λd</td>\n",
       "      <td>0.731858</td>\n",
       "      <td>γkxi</td>\n",
       "      <td>0.633840</td>\n",
       "      <td>gλ</td>\n",
       "      <td>0.578712</td>\n",
       "    </tr>\n",
       "  </tbody>\n",
       "</table>\n",
       "</div>"
      ],
      "text/plain": [
       "  math  similarity stats  similarity  cs  similarity\n",
       "0   qλ    0.831288    δµ    0.705000  rλ    0.730541\n",
       "1   aλ    0.803907    λσ    0.680993  fλ    0.717076\n",
       "2   lλ    0.766888    πλ    0.664533  qλ    0.711838\n",
       "3   ˜λ    0.753195  ´ωjh    0.664143  sλ    0.642061\n",
       "4   sλ    0.750431    f·    0.655204  ∃t    0.613401\n",
       "5   χλ    0.742127    σλ    0.652292   ♥    0.592571\n",
       "6   hλ    0.740442    cλ    0.642184  dλ    0.589962\n",
       "7   cλ    0.734365    λ−    0.641564  ψθ    0.580467\n",
       "8    λ    0.733722   γnc    0.636235  λv    0.580000\n",
       "9   λd    0.731858  γkxi    0.633840  gλ    0.578712"
      ]
     },
     "execution_count": 19,
     "metadata": {},
     "output_type": "execute_result"
    }
   ],
   "source": [
    "get_top10_all('pλ')"
   ]
  },
  {
   "cell_type": "code",
   "execution_count": 20,
   "metadata": {},
   "outputs": [
    {
     "data": {
      "text/plain": [
       "0.9799580440045753"
      ]
     },
     "execution_count": 20,
     "metadata": {},
     "output_type": "execute_result"
    }
   ],
   "source": [
    "subject_similarities(stats_model,'linear_regression','linear_model')"
   ]
  },
  {
   "cell_type": "code",
   "execution_count": 21,
   "metadata": {},
   "outputs": [
    {
     "data": {
      "text/plain": [
       "0.9910060688677611"
      ]
     },
     "execution_count": 21,
     "metadata": {},
     "output_type": "execute_result"
    }
   ],
   "source": [
    "subject_similarities(cs_model,'linear_regression','linear_model')"
   ]
  },
  {
   "cell_type": "code",
   "execution_count": null,
   "metadata": {},
   "outputs": [],
   "source": []
  }
 ],
 "metadata": {
  "kernelspec": {
   "display_name": "Python 3",
   "language": "python",
   "name": "python3"
  },
  "language_info": {
   "codemirror_mode": {
    "name": "ipython",
    "version": 3
   },
   "file_extension": ".py",
   "mimetype": "text/x-python",
   "name": "python",
   "nbconvert_exporter": "python",
   "pygments_lexer": "ipython3",
   "version": "3.6.4"
  },
  "latex_envs": {
   "LaTeX_envs_menu_present": true,
   "autoclose": false,
   "autocomplete": true,
   "bibliofile": "biblio.bib",
   "cite_by": "apalike",
   "current_citInitial": 1,
   "eqLabelWithNumbers": true,
   "eqNumInitial": 1,
   "hotkeys": {
    "equation": "Ctrl-E",
    "itemize": "Ctrl-I"
   },
   "labels_anchors": false,
   "latex_user_defs": false,
   "report_style_numbering": false,
   "user_envs_cfg": false
  },
  "toc": {
   "nav_menu": {},
   "number_sections": true,
   "sideBar": true,
   "skip_h1_title": false,
   "title_cell": "Table of Contents",
   "title_sidebar": "Contents",
   "toc_cell": false,
   "toc_position": {},
   "toc_section_display": true,
   "toc_window_display": false
  },
  "varInspector": {
   "cols": {
    "lenName": 16,
    "lenType": 16,
    "lenVar": 40
   },
   "kernels_config": {
    "python": {
     "delete_cmd_postfix": "",
     "delete_cmd_prefix": "del ",
     "library": "var_list.py",
     "varRefreshCmd": "print(var_dic_list())"
    },
    "r": {
     "delete_cmd_postfix": ") ",
     "delete_cmd_prefix": "rm(",
     "library": "var_list.r",
     "varRefreshCmd": "cat(var_dic_list()) "
    }
   },
   "types_to_exclude": [
    "module",
    "function",
    "builtin_function_or_method",
    "instance",
    "_Feature"
   ],
   "window_display": false
  }
 },
 "nbformat": 4,
 "nbformat_minor": 2
}
